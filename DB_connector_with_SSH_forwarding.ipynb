{
 "cells": [
  {
   "cell_type": "code",
   "execution_count": null,
   "metadata": {
    "ExecuteTime": {
     "end_time": "2019-11-09T14:06:56.975193Z",
     "start_time": "2019-11-09T14:06:55.618615Z"
    }
   },
   "outputs": [],
   "source": [
    "import cx_Oracle as db\n",
    "from sshtunnel import SSHTunnelForwarder\n",
    "import pandas as pd"
   ]
  },
  {
   "cell_type": "code",
   "execution_count": null,
   "metadata": {
    "ExecuteTime": {
     "end_time": "2019-11-09T14:06:57.003590Z",
     "start_time": "2019-11-09T14:06:56.994056Z"
    }
   },
   "outputs": [],
   "source": [
    "##bastion server details..\n",
    "host = ''\n",
    "localhost = '127.0.0.1'\n",
    "ssh_username = ''\n",
    "ssh_password = ''\n",
    "#ssh_private_key = '/path/to/key.pem'\n",
    "# database variables\n",
    "user=''\n",
    "password=''\n",
    "database=''"
   ]
  },
  {
   "cell_type": "code",
   "execution_count": null,
   "metadata": {
    "ExecuteTime": {
     "end_time": "2019-11-09T14:06:57.982370Z",
     "start_time": "2019-11-09T14:06:57.977584Z"
    }
   },
   "outputs": [],
   "source": [
    "conn_str=  user+str(\"/\")+password+\"@localhost:1521/\"+database\n",
    "print(conn_str)"
   ]
  },
  {
   "cell_type": "code",
   "execution_count": null,
   "metadata": {
    "ExecuteTime": {
     "end_time": "2019-11-09T14:07:00.992987Z",
     "start_time": "2019-11-09T14:07:00.986330Z"
    }
   },
   "outputs": [],
   "source": [
    "def oracleconn(q):\n",
    "    with SSHTunnelForwarder((host, 22), ssh_username=ssh_username, ssh_password = ssh_password,\n",
    "        remote_bind_address=('us-east-1.rds.amazonaws.com', 1521),\n",
    "        local_bind_address=('0.0.0.0', 1521)\n",
    "        ) as server:\n",
    "        conn = db.connect(conn_str)\n",
    "        return pd.read_sql_query(q, conn)"
   ]
  },
  {
   "cell_type": "code",
   "execution_count": null,
   "metadata": {
    "ExecuteTime": {
     "end_time": "2019-11-09T14:07:05.410554Z",
     "start_time": "2019-11-09T14:07:03.097061Z"
    }
   },
   "outputs": [],
   "source": [
    "oracleconn('select count(*) from tablename')"
   ]
  }
 ],
 "metadata": {
  "kernelspec": {
   "display_name": "Python 3",
   "language": "python",
   "name": "python3"
  },
  "language_info": {
   "codemirror_mode": {
    "name": "ipython",
    "version": 3
   },
   "file_extension": ".py",
   "mimetype": "text/x-python",
   "name": "python",
   "nbconvert_exporter": "python",
   "pygments_lexer": "ipython3",
   "version": "3.6.8"
  },
  "toc": {
   "base_numbering": 1,
   "nav_menu": {},
   "number_sections": true,
   "sideBar": true,
   "skip_h1_title": false,
   "title_cell": "Table of Contents",
   "title_sidebar": "Contents",
   "toc_cell": false,
   "toc_position": {},
   "toc_section_display": true,
   "toc_window_display": false
  },
  "varInspector": {
   "cols": {
    "lenName": 16,
    "lenType": 16,
    "lenVar": 40
   },
   "kernels_config": {
    "python": {
     "delete_cmd_postfix": "",
     "delete_cmd_prefix": "del ",
     "library": "var_list.py",
     "varRefreshCmd": "print(var_dic_list())"
    },
    "r": {
     "delete_cmd_postfix": ") ",
     "delete_cmd_prefix": "rm(",
     "library": "var_list.r",
     "varRefreshCmd": "cat(var_dic_list()) "
    }
   },
   "types_to_exclude": [
    "module",
    "function",
    "builtin_function_or_method",
    "instance",
    "_Feature"
   ],
   "window_display": false
  }
 },
 "nbformat": 4,
 "nbformat_minor": 2
}
